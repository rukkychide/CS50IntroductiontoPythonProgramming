{
 "cells": [
  {
   "cell_type": "code",
   "execution_count": 27,
   "id": "40d3a91b-08f1-4822-819a-15e2f1b2bc30",
   "metadata": {},
   "outputs": [],
   "source": [
    "from calculator import square\n",
    "\n",
    "def main():\n",
    "    test_square()\n",
    "\n",
    "def test_square():\n",
    "    if square(2) != 4:\n",
    "        print(\"2 squared was not 4\")\n",
    "    if square(3) != 9:\n",
    "            print(\"3 squared was not 9\")\n",
    "\n",
    "if __name__ == \"__main__\":\n",
    "    main()"
   ]
  },
  {
   "cell_type": "code",
   "execution_count": 1,
   "id": "4db3967d-4c2c-47d2-abce-8ba6c0c7c21b",
   "metadata": {},
   "outputs": [
    {
     "name": "stdout",
     "output_type": "stream",
     "text": [
      "3 squared was not 9\n"
     ]
    }
   ],
   "source": [
    "from calculator import square\n",
    "\n",
    "def main():\n",
    "    test_square()\n",
    "\n",
    "def test_square():\n",
    "    if square(2) != 4:\n",
    "        print(\"2 squared was not 4\")\n",
    "    if square(3) != 9:\n",
    "            print(\"3 squared was not 9\")\n",
    "\n",
    "if __name__ == \"__main__\":\n",
    "    main()"
   ]
  },
  {
   "cell_type": "code",
   "execution_count": 15,
   "id": "9c48b119-5e04-4ff9-bae5-3c435547ed21",
   "metadata": {},
   "outputs": [
    {
     "name": "stdout",
     "output_type": "stream",
     "text": [
      "-2 squared was not 4\n",
      "-3 squared was not 9\n"
     ]
    }
   ],
   "source": [
    "from calculator import square\n",
    "\n",
    "def main():\n",
    "    test_square()\n",
    "\n",
    "def test_square():\n",
    "    try:\n",
    "        assert square(-2) == 4\n",
    "    except AssertionError:\n",
    "        print(\"-2 squared was not 4\")\n",
    "    try:\n",
    "        assert square(-3) == 9\n",
    "    except AssertionError:\n",
    "        print(\"-3 squared was not 9\")\n",
    "    try:\n",
    "        assert square(0) == 0\n",
    "    except AssertionError:\n",
    "        print(\"0 squared was not 0\")\n",
    "\n",
    "if __name__ == \"__main__\":\n",
    "    main()"
   ]
  },
  {
   "cell_type": "code",
   "execution_count": 17,
   "id": "04140907-6c0e-4ea4-866e-c1329818b3c3",
   "metadata": {},
   "outputs": [
    {
     "name": "stdout",
     "output_type": "stream",
     "text": [
      "Requirement already satisfied: pytest in c:\\users\\hp\\anaconda3\\lib\\site-packages (7.4.4)\n",
      "Requirement already satisfied: iniconfig in c:\\users\\hp\\anaconda3\\lib\\site-packages (from pytest) (1.1.1)\n",
      "Requirement already satisfied: packaging in c:\\users\\hp\\anaconda3\\lib\\site-packages (from pytest) (24.1)\n",
      "Requirement already satisfied: pluggy<2.0,>=0.12 in c:\\users\\hp\\anaconda3\\lib\\site-packages (from pytest) (1.0.0)\n",
      "Requirement already satisfied: colorama in c:\\users\\hp\\anaconda3\\lib\\site-packages (from pytest) (0.4.6)\n",
      "Note: you may need to restart the kernel to use updated packages.\n"
     ]
    }
   ],
   "source": [
    "pip install pytest"
   ]
  },
  {
   "cell_type": "code",
   "execution_count": 37,
   "id": "d5bd197d-2d92-4638-8c9e-e7173261bcc2",
   "metadata": {},
   "outputs": [],
   "source": [
    "from calculator import square\n",
    "\n",
    "def test_square():\n",
    "     assert square(2) == 4\n",
    "     assert square(3) == 9\n",
    "     assert square(-2) == 4\n",
    "     assert square(-3) == 9\n",
    "     assert square(0) == 0"
   ]
  },
  {
   "cell_type": "code",
   "execution_count": 55,
   "id": "c5f8c910-c953-4f73-bb47-2c1d28074963",
   "metadata": {},
   "outputs": [],
   "source": [
    "from calculator import square\n",
    "\n",
    "def test_square():\n",
    "     assert square(2) == 4\n",
    "     assert square(3) == 9\n",
    "\n",
    "def test_negative():\n",
    "    assert square(-2) == 4\n",
    "    assert square(-3) == 9\n",
    "    \n",
    "def test_negative():\n",
    "    assert square(0) == 0\n",
    "\n",
    "def test_str():\n",
    "    with pytest.raises(TypeError):\n",
    "        square(\"cat\")"
   ]
  }
 ],
 "metadata": {
  "kernelspec": {
   "display_name": "Python [conda env:base] *",
   "language": "python",
   "name": "conda-base-py"
  },
  "language_info": {
   "codemirror_mode": {
    "name": "ipython",
    "version": 3
   },
   "file_extension": ".py",
   "mimetype": "text/x-python",
   "name": "python",
   "nbconvert_exporter": "python",
   "pygments_lexer": "ipython3",
   "version": "3.12.7"
  }
 },
 "nbformat": 4,
 "nbformat_minor": 5
}
