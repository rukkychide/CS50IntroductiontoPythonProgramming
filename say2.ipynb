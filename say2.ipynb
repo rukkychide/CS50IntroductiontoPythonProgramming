{
 "cells": [
  {
   "cell_type": "code",
   "execution_count": 3,
   "id": "1b7cfb6a-a324-4cff-bfcf-5188628302de",
   "metadata": {},
   "outputs": [
    {
     "name": "stdout",
     "output_type": "stream",
     "text": [
      "hello, world\n",
      "goodbye, world\n"
     ]
    }
   ],
   "source": [
    "import sys\n",
    "\n",
    "from sayings import hello\n",
    "\n",
    "if len(sys.argv) == 2:\n",
    "    hello(sys.argv[1])"
   ]
  }
 ],
 "metadata": {
  "kernelspec": {
   "display_name": "Python [conda env:base] *",
   "language": "python",
   "name": "conda-base-py"
  },
  "language_info": {
   "codemirror_mode": {
    "name": "ipython",
    "version": 3
   },
   "file_extension": ".py",
   "mimetype": "text/x-python",
   "name": "python",
   "nbconvert_exporter": "python",
   "pygments_lexer": "ipython3",
   "version": "3.12.7"
  }
 },
 "nbformat": 4,
 "nbformat_minor": 5
}
