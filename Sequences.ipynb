{
 "cells": [
  {
   "cell_type": "code",
   "execution_count": 3,
   "id": "ee6546f6-dae5-4b49-90d5-293e6471aad0",
   "metadata": {},
   "outputs": [
    {
     "data": {
      "text/plain": [
       "[10, 25, 40, 50, '100']"
      ]
     },
     "execution_count": 3,
     "metadata": {},
     "output_type": "execute_result"
    }
   ],
   "source": [
    "Numbers = [10, 25, 40, 50]\n",
    "Numbers.append('100')\n",
    "Numbers"
   ]
  },
  {
   "cell_type": "code",
   "execution_count": 7,
   "id": "71c5f4dc-c6f6-46aa-9cba-68e0191b2e89",
   "metadata": {},
   "outputs": [
    {
     "data": {
      "text/plain": [
       "[10, 25, 40, 50, 115, 140]"
      ]
     },
     "execution_count": 7,
     "metadata": {},
     "output_type": "execute_result"
    }
   ],
   "source": [
    "Numbers = [10, 25, 40, 50]\n",
    "Numbers.extend([115, 140])\n",
    "Numbers\n"
   ]
  },
  {
   "cell_type": "code",
   "execution_count": 1,
   "id": "c84daabb-29ca-4c78-8680-a503cebb8d38",
   "metadata": {},
   "outputs": [
    {
     "name": "stdout",
     "output_type": "stream",
     "text": [
      "The fourth element of the Numbers list is 50\n"
     ]
    }
   ],
   "source": [
    "Numbers = [10, 25, 40, 50]\n",
    "print(\"The fourth element of the Numbers list is\", Numbers[3])"
   ]
  },
  {
   "cell_type": "code",
   "execution_count": 5,
   "id": "d74cd4eb-5e7c-4d66-8526-4aa6a348c821",
   "metadata": {},
   "outputs": [
    {
     "data": {
      "text/plain": [
       "4"
      ]
     },
     "execution_count": 5,
     "metadata": {},
     "output_type": "execute_result"
    }
   ],
   "source": [
    "Numbers = [10, 25, 40, 50]\n",
    "len(Numbers)"
   ]
  },
  {
   "cell_type": "code",
   "execution_count": 7,
   "id": "ad2d7de0-489e-4388-8c34-43266d376381",
   "metadata": {},
   "outputs": [
    {
     "data": {
      "text/plain": [
       "[100, 115]"
      ]
     },
     "execution_count": 7,
     "metadata": {},
     "output_type": "execute_result"
    }
   ],
   "source": [
    "Numbers = [15, 40, 50, 100, 115, 140]\n",
    "Numbers[3:5]"
   ]
  }
 ],
 "metadata": {
  "kernelspec": {
   "display_name": "Python [conda env:base] *",
   "language": "python",
   "name": "conda-base-py"
  },
  "language_info": {
   "codemirror_mode": {
    "name": "ipython",
    "version": 3
   },
   "file_extension": ".py",
   "mimetype": "text/x-python",
   "name": "python",
   "nbconvert_exporter": "python",
   "pygments_lexer": "ipython3",
   "version": "3.12.7"
  }
 },
 "nbformat": 4,
 "nbformat_minor": 5
}
