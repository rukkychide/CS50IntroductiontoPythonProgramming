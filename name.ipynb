{
 "cells": [
  {
   "cell_type": "code",
   "execution_count": 23,
   "id": "5a0a8e88-22f2-4000-8aa0-c5365c18b25d",
   "metadata": {},
   "outputs": [
    {
     "name": "stdout",
     "output_type": "stream",
     "text": [
      "Too many arguments\n"
     ]
    }
   ],
   "source": [
    "import sys\n",
    "\n",
    "if len(sys.argv) < 2:\n",
    "    print(\"Too few arguments\")\n",
    "elif len (sys.argv) > 2:\n",
    "    print(\"Too many arguments\")\n",
    "else:\n",
    "    print(\"hello, my name is\", sys.argv[1])"
   ]
  },
  {
   "cell_type": "code",
   "execution_count": 25,
   "id": "5cd16773-9251-4613-8ce3-454c324ddeb6",
   "metadata": {},
   "outputs": [
    {
     "name": "stdout",
     "output_type": "stream",
     "text": [
      "hello, my name is -f\n"
     ]
    }
   ],
   "source": [
    "import sys\n",
    "\n",
    "if len(sys.argv) < 2:\n",
    "    sys.exit(\"Too few arguments\")\n",
    "elif len(sys.argv) < 2:\n",
    "    sys.exit(\"Too many arguments\")\n",
    "\n",
    "print(\"hello, my name is\", sys.argv[1])"
   ]
  },
  {
   "cell_type": "code",
   "execution_count": 27,
   "id": "c927a4be-406c-4adb-bf5d-d3c8e6d4d826",
   "metadata": {},
   "outputs": [
    {
     "name": "stdout",
     "output_type": "stream",
     "text": [
      "hello, my name is -f\n"
     ]
    }
   ],
   "source": [
    "import sys\n",
    "\n",
    "if len(sys.argv) < 2:\n",
    "    sys.exit(\"Too few arguments\")\n",
    "elif len(sys.argv) < 2:\n",
    "    sys.exit(\"Too many arguments\")\n",
    "\n",
    "print(\"hello, my name is\", sys.argv[1])"
   ]
  },
  {
   "cell_type": "code",
   "execution_count": 39,
   "id": "2d40993c-34d3-495d-ab2b-172bc21748d2",
   "metadata": {},
   "outputs": [],
   "source": [
    "import sys\n",
    "\n",
    "if len(sys.argv) < 2:\n",
    "    sys.exit(\"Too few arguments\")\n",
    "\n",
    "for arg in sys.argv[1:1-1]:\n",
    "    print(\"hello, my name is\", arg)"
   ]
  },
  {
   "cell_type": "code",
   "execution_count": 3,
   "id": "954bc0a5-d2a0-49d4-87f9-dd67962d1182",
   "metadata": {},
   "outputs": [
    {
     "name": "stdin",
     "output_type": "stream",
     "text": [
      "what's your name?  Hermione\n",
      "what's your name?  Harry\n",
      "what's your name?  Ron\n"
     ]
    },
    {
     "name": "stdout",
     "output_type": "stream",
     "text": [
      "hello, Harry\n",
      "hello, Hermione\n",
      "hello, Ron\n"
     ]
    }
   ],
   "source": [
    "names = []\n",
    "\n",
    "for _ in range(3):\n",
    "    names.append(input(\"what's your name? \"))\n",
    "    \n",
    "for name in sorted(names):\n",
    "    print(f\"hello, {name}\")"
   ]
  },
  {
   "cell_type": "code",
   "execution_count": null,
   "id": "99a22b1d-2a0b-4287-8766-f38e6b630d21",
   "metadata": {},
   "outputs": [],
   "source": [
    "names = input(\"what's your name\")\n",
    "\n",
    "file = open(\"names.text\", \"w\")\n",
    "file.write(name)\n",
    "file.close()"
   ]
  },
  {
   "cell_type": "code",
   "execution_count": null,
   "id": "61f01bb1-5c45-42bb-9e6e-5545609f478e",
   "metadata": {},
   "outputs": [],
   "source": [
    "names = input(\"what's your name\")\n",
    "\n",
    "with open(\"names.txt\", \"a\") as file:\n",
    "    file,write(f\"{name}\\n\")"
   ]
  },
  {
   "cell_type": "code",
   "execution_count": null,
   "id": "b1e5fe43-615c-4b27-ab0c-6babbcc49869",
   "metadata": {},
   "outputs": [],
   "source": [
    "with open(\"names.txt\", \"r\" as file\n",
    "    lines = file.readlines()\n",
    "\n",
    "for line in lines\n",
    "    print(\"hello,\", line.rstrip())"
   ]
  },
  {
   "cell_type": "code",
   "execution_count": null,
   "id": "ad5f47af-e820-4aea-8229-75aee1d14fcf",
   "metadata": {},
   "outputs": [],
   "source": [
    "with open(\"names.txt\", \"r\" as file\n",
    "    for line in file\n",
    "        print(\"hello,\", line.rstrip())"
   ]
  },
  {
   "cell_type": "code",
   "execution_count": null,
   "id": "d74dd6db-896a-46c1-8d74-82cfd67c7b55",
   "metadata": {},
   "outputs": [],
   "source": [
    "names = []\n",
    "\n",
    "with open(\"names.text\") as file:\n",
    "    for line in file\n",
    "        names.append(line.rstrip())\n",
    "\n",
    "for name in sorted(names, reverse=True):\n",
    "    print(f\"hello, {name}\")"
   ]
  }
 ],
 "metadata": {
  "kernelspec": {
   "display_name": "Python [conda env:base] *",
   "language": "python",
   "name": "conda-base-py"
  },
  "language_info": {
   "codemirror_mode": {
    "name": "ipython",
    "version": 3
   },
   "file_extension": ".py",
   "mimetype": "text/x-python",
   "name": "python",
   "nbconvert_exporter": "python",
   "pygments_lexer": "ipython3",
   "version": "3.12.7"
  }
 },
 "nbformat": 4,
 "nbformat_minor": 5
}
