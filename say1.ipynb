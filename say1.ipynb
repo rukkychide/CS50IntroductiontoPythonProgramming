{
 "cells": [
  {
   "cell_type": "code",
   "execution_count": 23,
   "id": "65472c99-5a94-44a3-8065-e899eda303de",
   "metadata": {},
   "outputs": [
    {
     "name": "stdout",
     "output_type": "stream",
     "text": [
      "Requirement already satisfied: cowsay in c:\\users\\hp\\anaconda3\\lib\\site-packages (6.1)\n"
     ]
    }
   ],
   "source": [
    "!pip install cowsay"
   ]
  },
  {
   "cell_type": "code",
   "execution_count": 27,
   "id": "78fb06ca-7cec-4a12-8962-58aa3c654eab",
   "metadata": {},
   "outputs": [],
   "source": [
    "import cowsay\n",
    "import sys\n",
    "if len(sys.argv) == 2:\n",
    "    cowsay.cow(\"hello, \" + sys.argv[1])"
   ]
  },
  {
   "cell_type": "code",
   "execution_count": 31,
   "id": "3c14d16f-d4c2-482d-a1ab-bab26a49875c",
   "metadata": {},
   "outputs": [
    {
     "name": "stdin",
     "output_type": "stream",
     "text": [
      "Enter your name:  David\n"
     ]
    },
    {
     "name": "stdout",
     "output_type": "stream",
     "text": [
      "  ____________\n",
      "| hello, David |\n",
      "  ============\n",
      "            \\\n",
      "             \\\n",
      "               ^__^\n",
      "               (oo)\\_______\n",
      "               (__)\\       )\\/\\\n",
      "                   ||----w |\n",
      "                   ||     ||\n"
     ]
    }
   ],
   "source": [
    "import cowsay\n",
    "\n",
    "name = input(\"Enter your name: \")\n",
    "cowsay.cow(\"hello, \" + name)"
   ]
  }
 ],
 "metadata": {
  "kernelspec": {
   "display_name": "Python [conda env:base] *",
   "language": "python",
   "name": "conda-base-py"
  },
  "language_info": {
   "codemirror_mode": {
    "name": "ipython",
    "version": 3
   },
   "file_extension": ".py",
   "mimetype": "text/x-python",
   "name": "python",
   "nbconvert_exporter": "python",
   "pygments_lexer": "ipython3",
   "version": "3.12.7"
  }
 },
 "nbformat": 4,
 "nbformat_minor": 5
}
