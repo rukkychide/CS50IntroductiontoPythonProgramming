{
 "cells": [
  {
   "cell_type": "code",
   "execution_count": 5,
   "id": "0d799558-ae8b-48d5-93a8-847be3703c4d",
   "metadata": {},
   "outputs": [
    {
     "name": "stdout",
     "output_type": "stream",
     "text": [
      "#\n",
      "#\n",
      "#\n"
     ]
    }
   ],
   "source": [
    "for _ in range(3):\n",
    "    print(\"#\")"
   ]
  },
  {
   "cell_type": "code",
   "execution_count": 17,
   "id": "290ed5a4-57cd-454a-8053-6ffe353b76f4",
   "metadata": {},
   "outputs": [
    {
     "name": "stdout",
     "output_type": "stream",
     "text": [
      "????\n"
     ]
    }
   ],
   "source": [
    "def main():\n",
    "    print_row(4)\n",
    "\n",
    "def print_row(width):\n",
    "    print(\"?\" * width)\n",
    "\n",
    "\n",
    "\n",
    "main()\n",
    "    "
   ]
  },
  {
   "cell_type": "code",
   "execution_count": 26,
   "id": "dbf909b7-74ac-4c45-8083-d0a20ec8068e",
   "metadata": {},
   "outputs": [
    {
     "name": "stdout",
     "output_type": "stream",
     "text": [
      "###\n",
      "###\n",
      "###\n"
     ]
    }
   ],
   "source": [
    "def main():\n",
    "    print_square(3)\n",
    "    \n",
    "def print_square(size):\n",
    "    \n",
    "# print_square(size)\n",
    "    for i in range(size):\n",
    "\n",
    "# for each brick in row\n",
    "        for j in range(size):\n",
    "\n",
    "#print back\n",
    "                print(\"#\", end=\"\")\n",
    "        print()\n",
    "\n",
    "\n",
    "\n",
    "main()"
   ]
  },
  {
   "cell_type": "code",
   "execution_count": 34,
   "id": "6a19a332-4025-489f-bfe9-fcd082b387ae",
   "metadata": {},
   "outputs": [
    {
     "name": "stdout",
     "output_type": "stream",
     "text": [
      "###\n",
      "###\n",
      "###\n"
     ]
    }
   ],
   "source": [
    "def main():\n",
    "    print_square(3)\n",
    "    \n",
    "def print_square(size):    \n",
    "    for i in range(size):\n",
    "        print_row(size)\n",
    "\n",
    "\n",
    "def print_row(width):\n",
    "    print(\"#\"* width)\n",
    "\n",
    "\n",
    "\n",
    "main()"
   ]
  }
 ],
 "metadata": {
  "kernelspec": {
   "display_name": "Python [conda env:base] *",
   "language": "python",
   "name": "conda-base-py"
  },
  "language_info": {
   "codemirror_mode": {
    "name": "ipython",
    "version": 3
   },
   "file_extension": ".py",
   "mimetype": "text/x-python",
   "name": "python",
   "nbconvert_exporter": "python",
   "pygments_lexer": "ipython3",
   "version": "3.12.7"
  }
 },
 "nbformat": 4,
 "nbformat_minor": 5
}
