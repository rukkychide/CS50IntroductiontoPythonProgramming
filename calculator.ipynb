{
 "cells": [
  {
   "cell_type": "code",
   "execution_count": 3,
   "id": "0115d8d0-dc7d-46a1-b422-fe5c5d1c4bc4",
   "metadata": {},
   "outputs": [
    {
     "name": "stdout",
     "output_type": "stream",
     "text": [
      "3\n"
     ]
    }
   ],
   "source": [
    "x = 1\n",
    "y = 2\n",
    "z = x + y\n",
    "print(z)"
   ]
  },
  {
   "cell_type": "code",
   "execution_count": 13,
   "id": "a6be0815-f14e-4d48-b3f6-6b6d05a2c344",
   "metadata": {},
   "outputs": [
    {
     "name": "stdin",
     "output_type": "stream",
     "text": [
      "What's x?  1\n",
      "what's y?  2\n"
     ]
    },
    {
     "name": "stdout",
     "output_type": "stream",
     "text": [
      "3\n"
     ]
    }
   ],
   "source": [
    "x = input(\"What's x? \")\n",
    "y = input(\"what's y? \")\n",
    "z = int(x) + int(y)\n",
    "print(z)"
   ]
  },
  {
   "cell_type": "code",
   "execution_count": 19,
   "id": "864c2a3b-90b4-49d3-b5aa-a673b6e7e26f",
   "metadata": {},
   "outputs": [
    {
     "name": "stdin",
     "output_type": "stream",
     "text": [
      "What's x?  1\n",
      "what's y?  2\n"
     ]
    },
    {
     "name": "stdout",
     "output_type": "stream",
     "text": [
      "3\n"
     ]
    }
   ],
   "source": [
    "x = int(input(\"What's x? \"))\n",
    "y = int(input(\"what's y? \"))\n",
    "\n",
    "print(x + y)"
   ]
  },
  {
   "cell_type": "code",
   "execution_count": 23,
   "id": "4a83823b-e833-4c5d-be52-2d4be8804f03",
   "metadata": {},
   "outputs": [
    {
     "name": "stdin",
     "output_type": "stream",
     "text": [
      "What's x?  1.2\n",
      "what's y?  3.4\n"
     ]
    },
    {
     "name": "stdout",
     "output_type": "stream",
     "text": [
      "4.6\n"
     ]
    }
   ],
   "source": [
    "x = float(input(\"What's x? \"))\n",
    "y = float(input(\"what's y? \"))\n",
    "\n",
    "print(x + y)"
   ]
  },
  {
   "cell_type": "code",
   "execution_count": 27,
   "id": "e9dbb646-39d5-4800-9e45-69c62e98bc6f",
   "metadata": {},
   "outputs": [
    {
     "name": "stdin",
     "output_type": "stream",
     "text": [
      "What's x?  999\n",
      "what's y?  1\n"
     ]
    },
    {
     "name": "stdout",
     "output_type": "stream",
     "text": [
      "1000\n"
     ]
    }
   ],
   "source": [
    "x = float(input(\"What's x? \"))\n",
    "y = float(input(\"what's y? \"))\n",
    "\n",
    "z = round(x+y)\n",
    "\n",
    "print(z)"
   ]
  },
  {
   "cell_type": "code",
   "execution_count": 31,
   "id": "39d825de-07f8-4b9d-80ec-a78273ce87ed",
   "metadata": {},
   "outputs": [
    {
     "name": "stdin",
     "output_type": "stream",
     "text": [
      "What's x?  999\n",
      "what's y?  1\n"
     ]
    },
    {
     "name": "stdout",
     "output_type": "stream",
     "text": [
      "1000\n"
     ]
    }
   ],
   "source": [
    "x = float(input(\"What's x? \"))\n",
    "y = float(input(\"what's y? \"))\n",
    "\n",
    "z = round(x+y)\n",
    "\n",
    "print(f\"{z}\")"
   ]
  },
  {
   "cell_type": "code",
   "execution_count": 35,
   "id": "55d78d3e-e5c4-4a83-9ea7-256620b34313",
   "metadata": {},
   "outputs": [
    {
     "name": "stdin",
     "output_type": "stream",
     "text": [
      "What's x?  2\n",
      "what's y?  3\n"
     ]
    },
    {
     "name": "stdout",
     "output_type": "stream",
     "text": [
      "0.6666666666666666\n"
     ]
    }
   ],
   "source": [
    "x = float(input(\"What's x? \"))\n",
    "y = float(input(\"what's y? \"))\n",
    "\n",
    "z = x / y\n",
    "\n",
    "print(z)"
   ]
  },
  {
   "cell_type": "code",
   "execution_count": 37,
   "id": "427b4a2d-3b48-4a8d-8546-ae6d19c14e4f",
   "metadata": {},
   "outputs": [
    {
     "name": "stdin",
     "output_type": "stream",
     "text": [
      "What's x?  2\n",
      "what's y?  3\n"
     ]
    },
    {
     "name": "stdout",
     "output_type": "stream",
     "text": [
      "0.67\n"
     ]
    }
   ],
   "source": [
    "x = float(input(\"What's x? \"))\n",
    "y = float(input(\"what's y? \"))\n",
    "\n",
    "z = x / y\n",
    "\n",
    "print(f\"{z:.2f}\")"
   ]
  },
  {
   "cell_type": "code",
   "execution_count": 51,
   "id": "3d2985a9-8ff9-4b54-8dbb-f1e7b8bdce4f",
   "metadata": {},
   "outputs": [
    {
     "name": "stdin",
     "output_type": "stream",
     "text": [
      "What's x?  4\n"
     ]
    },
    {
     "name": "stdout",
     "output_type": "stream",
     "text": [
      "x squared is 16\n"
     ]
    }
   ],
   "source": [
    "def main():\n",
    "    x = int(input(\"What's x? \"))\n",
    "    print(\"x squared is\", square(x))\n",
    "def square(n):\n",
    "    \n",
    "    return pow(n,2)\n",
    "    \n",
    "main()"
   ]
  },
  {
   "cell_type": "code",
   "execution_count": 7,
   "id": "1eb1d4a2-d0e6-4a1f-8c6a-8e105f7a3226",
   "metadata": {},
   "outputs": [
    {
     "name": "stdin",
     "output_type": "stream",
     "text": [
      "what's x?  3\n"
     ]
    },
    {
     "name": "stdout",
     "output_type": "stream",
     "text": [
      "x squared is 9\n"
     ]
    }
   ],
   "source": [
    "def main():\n",
    "    x = int(input(\"what's x? \"))\n",
    "    print(\"x squared is\", square(x))\n",
    "\n",
    "def square(n):\n",
    "    return n * n\n",
    "\n",
    "main()"
   ]
  },
  {
   "cell_type": "code",
   "execution_count": 21,
   "id": "45f416e2-4a8b-4d0c-b55a-b3840d9fa5b7",
   "metadata": {},
   "outputs": [
    {
     "name": "stdout",
     "output_type": "stream",
     "text": [
      "Overwriting calculator.py\n"
     ]
    }
   ],
   "source": [
    "%%writefile calculator.py\n",
    "def main():\n",
    "    x = int(input(\"what's x? \"))\n",
    "    print(\"x squared is\", square(x))\n",
    "\n",
    "def square(n):\n",
    "    return n + n\n",
    "\n",
    "if __name__ == \"__main__\":\n",
    "    main()"
   ]
  },
  {
   "cell_type": "code",
   "execution_count": 3,
   "id": "edc47cbc-edf0-41e2-9c4f-e613d646e511",
   "metadata": {},
   "outputs": [
    {
     "name": "stdout",
     "output_type": "stream",
     "text": [
      "Overwriting calculator.py\n"
     ]
    }
   ],
   "source": [
    "%%writefile calculator.py\n",
    "def main():\n",
    "    x = int(input(\"what's x? \"))\n",
    "    print(\"x squared is\", square(x))\n",
    "\n",
    "def square(n):\n",
    "    return n * n\n",
    "\n",
    "if __name__ == \"__main__\":\n",
    "    main()"
   ]
  }
 ],
 "metadata": {
  "kernelspec": {
   "display_name": "Python [conda env:base] *",
   "language": "python",
   "name": "conda-base-py"
  },
  "language_info": {
   "codemirror_mode": {
    "name": "ipython",
    "version": 3
   },
   "file_extension": ".py",
   "mimetype": "text/x-python",
   "name": "python",
   "nbconvert_exporter": "python",
   "pygments_lexer": "ipython3",
   "version": "3.12.7"
  }
 },
 "nbformat": 4,
 "nbformat_minor": 5
}
