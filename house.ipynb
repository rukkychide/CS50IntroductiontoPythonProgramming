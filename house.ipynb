{
 "cells": [
  {
   "cell_type": "code",
   "execution_count": 1,
   "id": "8d59d6e3-644c-49b5-b185-7787c6954b74",
   "metadata": {},
   "outputs": [
    {
     "name": "stdin",
     "output_type": "stream",
     "text": [
      "What's your name? Draco\n"
     ]
    },
    {
     "name": "stdout",
     "output_type": "stream",
     "text": [
      "Slytherin\n"
     ]
    }
   ],
   "source": [
    "name = input(\"What's your name?\")\n",
    "\n",
    "if name ==\"Harry\" or name == \"Hermione\" or name == \"Ron\":\n",
    "    print (\"Gryffindor\")\n",
    "elif name == \"Draco\":\n",
    "    print(\"Slytherin\")\n",
    "else:\n",
    "    print(\"Who?\")"
   ]
  },
  {
   "cell_type": "code",
   "execution_count": 7,
   "id": "e12b65e1-3476-406c-a9fb-8eab6c6b116b",
   "metadata": {},
   "outputs": [
    {
     "name": "stdin",
     "output_type": "stream",
     "text": [
      "what's your name Padma\n"
     ]
    },
    {
     "name": "stdout",
     "output_type": "stream",
     "text": [
      "who?\n"
     ]
    }
   ],
   "source": [
    "name = input(\"what's your name\")\n",
    "\n",
    "match name:\n",
    "    case \"Harry\":\n",
    "        print (\"Gryffindor\")\n",
    "    case \"Hermione\":\n",
    "        print (\"Gryffindor\")\n",
    "    case \"Ron\":\n",
    "        print(\"Gryffindor\")\n",
    "    case \"Draco\":\n",
    "        print(\"Slytherin\")\n",
    "    case _:\n",
    "        print(\"who?\")\n",
    "        \n",
    "        "
   ]
  }
 ],
 "metadata": {
  "kernelspec": {
   "display_name": "Python [conda env:base] *",
   "language": "python",
   "name": "conda-base-py"
  },
  "language_info": {
   "codemirror_mode": {
    "name": "ipython",
    "version": 3
   },
   "file_extension": ".py",
   "mimetype": "text/x-python",
   "name": "python",
   "nbconvert_exporter": "python",
   "pygments_lexer": "ipython3",
   "version": "3.12.7"
  }
 },
 "nbformat": 4,
 "nbformat_minor": 5
}
