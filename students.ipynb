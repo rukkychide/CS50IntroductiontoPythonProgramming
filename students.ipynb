{
 "cells": [
  {
   "cell_type": "code",
   "execution_count": null,
   "id": "628c976b-a9a7-4125-8332-669da33306ea",
   "metadata": {},
   "outputs": [],
   "source": [
    "with open(\"students. csv\") as file:\n",
    "    for line in file:\n",
    "        row = line.rstrip().split(\",\")\n",
    "        print(f\"{row[0]} is in {row[1]}"
   ]
  },
  {
   "cell_type": "code",
   "execution_count": null,
   "id": "31231a67-0cfc-4ff2-9de7-0f1d3e09ad5c",
   "metadata": {},
   "outputs": [],
   "source": [
    "with open(\"students. csv\") as file:\n",
    "    for line in file:\n",
    "        name, house = line.rstrip().split(\",\")\n",
    "        print(f\"{name} is in {house}\")"
   ]
  },
  {
   "cell_type": "code",
   "execution_count": null,
   "id": "526f869a-c1a6-4ea7-ae5f-275e0e1537c1",
   "metadata": {},
   "outputs": [],
   "source": [
    "students = []\n",
    "\n",
    "with open(\"students. csv\") as file:\n",
    "    for line in file:\n",
    "        name, house = line.rstrip().split(\",\")\n",
    "        student = {\"name\": name, \"house\": house}\n",
    "        students.append(student)\n",
    "\n",
    "def get_name(student)\n",
    "    return student[\"name\"]\n",
    "\n",
    "for student in sorted(students, key=lambda student: student[\"name\"]):\n",
    "    print(f\"{student['name']} is in {student['house']}\")"
   ]
  },
  {
   "cell_type": "code",
   "execution_count": null,
   "id": "92665cac-3f67-466c-9d81-c78c851e49b5",
   "metadata": {},
   "outputs": [],
   "source": [
    "import csv\n",
    "\n",
    "students = []\n",
    "\n",
    "with open(\"students. csv\") as file:\n",
    "    reader = csv.reader(file)\n",
    "    for name, home in reader:\n",
    "        students. append({\"name\": name, \"home\": home})\n",
    "\n",
    "for student in sorted(students, key=lambda student: student[\"name\"]):\n",
    "    print(f\"{student['name']} is in {student['home']}\")"
   ]
  },
  {
   "cell_type": "code",
   "execution_count": null,
   "id": "9ad7475a-df5a-41bb-a6a8-05db5e764f3d",
   "metadata": {},
   "outputs": [],
   "source": [
    "import csv\n",
    "\n",
    "students = []\n",
    "\n",
    "with open(\"students. csv\") as file:\n",
    "    reader = csv.DictReader(file)\n",
    "    for row in reader:\n",
    "        students. append({\"name\": row[\"name\"], \"home\": row[\"home\"]})\n",
    "\n",
    "for student in sorted(students, key=lambda student: student[\"name\"]):\n",
    "    print(f\"{student['name']} is in {student['home']}\")"
   ]
  },
  {
   "cell_type": "code",
   "execution_count": null,
   "id": "6d700692-0e74-4f52-b742-92de676d5980",
   "metadata": {},
   "outputs": [],
   "source": [
    "import csv\n",
    "\n",
    "name = input(\"What's your name? \")\n",
    "home = input(\"What's your home? \")\n",
    "\n",
    "with open(\"students.csv\", \"a\") as file:\n",
    "    writer = csv.writer(file)\n",
    "    writer.writerow([name, home])            "
   ]
  },
  {
   "cell_type": "code",
   "execution_count": null,
   "id": "2f5192bf-0fce-436a-9185-7e1ecf0943b5",
   "metadata": {},
   "outputs": [],
   "source": [
    "import csv\n",
    "\n",
    "name = input(\"What's your name? \")\n",
    "home = input(\"What's your home? \")\n",
    "\n",
    "with open(\"students.csv\", \"a\") as file:\n",
    "    writer = csv.Dictwriter(file)\n",
    "    writer.writerow([\"name\": name, \"home\": home})"
   ]
  }
 ],
 "metadata": {
  "kernelspec": {
   "display_name": "Python [conda env:base] *",
   "language": "python",
   "name": "conda-base-py"
  },
  "language_info": {
   "codemirror_mode": {
    "name": "ipython",
    "version": 3
   },
   "file_extension": ".py",
   "mimetype": "text/x-python",
   "name": "python",
   "nbconvert_exporter": "python",
   "pygments_lexer": "ipython3",
   "version": "3.12.7"
  }
 },
 "nbformat": 4,
 "nbformat_minor": 5
}
