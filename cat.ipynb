{
 "cells": [
  {
   "cell_type": "code",
   "execution_count": 3,
   "id": "682e6948-102f-4841-8b36-6693a879e466",
   "metadata": {},
   "outputs": [
    {
     "name": "stdout",
     "output_type": "stream",
     "text": [
      "meow\n",
      "meow\n",
      "meow\n"
     ]
    }
   ],
   "source": [
    "print(\"meow\")\n",
    "print(\"meow\")\n",
    "print(\"meow\")"
   ]
  },
  {
   "cell_type": "code",
   "execution_count": 7,
   "id": "1710feb9-0479-446f-86ba-e59b943f7784",
   "metadata": {},
   "outputs": [
    {
     "name": "stdout",
     "output_type": "stream",
     "text": [
      "meow\n",
      "meow\n",
      "meow\n"
     ]
    }
   ],
   "source": [
    "i = 3\n",
    "while i != 0:\n",
    "    print(\"meow\")\n",
    "    i = i - 1"
   ]
  },
  {
   "cell_type": "code",
   "execution_count": 11,
   "id": "f2581b5e-0997-4e60-baf4-f0fc1a88d063",
   "metadata": {},
   "outputs": [
    {
     "name": "stdout",
     "output_type": "stream",
     "text": [
      "meow\n",
      "meow\n",
      "meow\n"
     ]
    }
   ],
   "source": [
    "i = 0\n",
    "while i < 3:\n",
    "    print(\"meow\")\n",
    "    i = i + 1"
   ]
  },
  {
   "cell_type": "code",
   "execution_count": 15,
   "id": "79e9b23d-bfc7-4bf1-a3a1-9c0232b3a18c",
   "metadata": {},
   "outputs": [
    {
     "name": "stdout",
     "output_type": "stream",
     "text": [
      "meow\n",
      "meow\n",
      "meow\n"
     ]
    }
   ],
   "source": [
    "for i in range(3):\n",
    "    print(\"meow\")"
   ]
  },
  {
   "cell_type": "code",
   "execution_count": 25,
   "id": "426b099a-030c-41af-a553-fbdcbd9d1d54",
   "metadata": {},
   "outputs": [
    {
     "name": "stdin",
     "output_type": "stream",
     "text": [
      "what's n?  10\n"
     ]
    },
    {
     "name": "stdout",
     "output_type": "stream",
     "text": [
      "meow\n",
      "meow\n",
      "meow\n",
      "meow\n",
      "meow\n",
      "meow\n",
      "meow\n",
      "meow\n",
      "meow\n",
      "meow\n"
     ]
    }
   ],
   "source": [
    "while True:\n",
    "    n = int(input(\"what's n? \"))\n",
    "    if n > 0:\n",
    "            break\n",
    "for _ in range(n):\n",
    "    print(\"meow\")\n",
    "            "
   ]
  },
  {
   "cell_type": "code",
   "execution_count": 48,
   "id": "2378e3a6-4af1-4c5c-ba25-2635002c6179",
   "metadata": {},
   "outputs": [],
   "source": [
    "def main():\n",
    "    number = get_number()\n",
    "    meow(number)\n",
    "\n",
    "def get_number():\n",
    "    while True:\n",
    "        n = int(input(\"What's n?\"))\n",
    "        if n > 0:\n",
    "            break\n",
    "    return n\n",
    "\n",
    "def meow(n):\n",
    "    for _ in range(n):\n",
    "        print(\"meow\")\n",
    "    "
   ]
  }
 ],
 "metadata": {
  "kernelspec": {
   "display_name": "Python [conda env:base] *",
   "language": "python",
   "name": "conda-base-py"
  },
  "language_info": {
   "codemirror_mode": {
    "name": "ipython",
    "version": 3
   },
   "file_extension": ".py",
   "mimetype": "text/x-python",
   "name": "python",
   "nbconvert_exporter": "python",
   "pygments_lexer": "ipython3",
   "version": "3.12.7"
  }
 },
 "nbformat": 4,
 "nbformat_minor": 5
}
