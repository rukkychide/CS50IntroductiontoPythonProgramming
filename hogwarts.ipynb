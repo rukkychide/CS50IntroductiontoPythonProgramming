{
 "cells": [
  {
   "cell_type": "code",
   "execution_count": 1,
   "id": "43bc4f5b-0bc9-4f29-a412-66edc6b5d2b7",
   "metadata": {},
   "outputs": [
    {
     "name": "stdout",
     "output_type": "stream",
     "text": [
      "Hermione\n",
      "Harry\n",
      "Ron\n"
     ]
    }
   ],
   "source": [
    "students = [\"Hermione\", \"Harry\", \"Ron\"]\n",
    "\n",
    "print(students [0])\n",
    "print(students [1])\n",
    "print(students [2])"
   ]
  },
  {
   "cell_type": "code",
   "execution_count": 3,
   "id": "6dd2f00e-fb0c-4abf-93c8-679eb0a23754",
   "metadata": {},
   "outputs": [
    {
     "name": "stdout",
     "output_type": "stream",
     "text": [
      "Hermione\n",
      "Harry\n",
      "Ron\n"
     ]
    }
   ],
   "source": [
    "students = [\"Hermione\", \"Harry\", \"Ron\"]\n",
    "\n",
    "for student in students:\n",
    "    print(student)"
   ]
  },
  {
   "cell_type": "code",
   "execution_count": 7,
   "id": "6456e2ad-6d2c-4d55-baa8-152a7c583945",
   "metadata": {},
   "outputs": [
    {
     "name": "stdout",
     "output_type": "stream",
     "text": [
      "1 Hermione\n",
      "2 Harry\n",
      "3 Ron\n"
     ]
    }
   ],
   "source": [
    "students = [\"Hermione\", \"Harry\", \"Ron\"]\n",
    "\n",
    "for i in range(len(students)):\n",
    "    print(i + 1, students[i])"
   ]
  },
  {
   "cell_type": "code",
   "execution_count": 1,
   "id": "c5b9fae5-2ea1-43e4-9390-80a36a39895a",
   "metadata": {},
   "outputs": [
    {
     "name": "stdout",
     "output_type": "stream",
     "text": [
      "Hermione,Gryffindor\n",
      "Harry,Gryffindor\n",
      "Ron,Gryffindor\n",
      "Draco,Slytherin\n"
     ]
    }
   ],
   "source": [
    "students = {\n",
    "    \"Hermione\": \"Gryffindor\",\n",
    "    \"Harry\": \"Gryffindor\",\n",
    "    \"Ron\": \"Gryffindor\",\n",
    "    \"Draco\": \"Slytherin\",\n",
    "}\n",
    "\n",
    "for student in students:\n",
    "    print(student, students[student], sep=\",\")"
   ]
  },
  {
   "cell_type": "code",
   "execution_count": 13,
   "id": "306801eb-5cec-4e8d-b38b-8f4cf55acba4",
   "metadata": {},
   "outputs": [
    {
     "name": "stdout",
     "output_type": "stream",
     "text": [
      "Hermione,Gryffindor,Otter\n",
      "Harry,Gryffindor,Stag\n",
      "Ron,Gryffindor,Jack Russel terrier\n",
      "Draco,Sytherin,None\n"
     ]
    }
   ],
   "source": [
    "students = [\n",
    "    {\"name\": \"Hermione\", \"house\": \"Gryffindor\", \"patronus\": \"Otter\"},\n",
    "    {\"name\": \"Harry\", \"house\": \"Gryffindor\", \"patronus\": \"Stag\"},\n",
    "    {\"name\": \"Ron\", \"house\": \"Gryffindor\", \"patronus\": \"Jack Russel terrier\"},\n",
    "    {\"name\": \"Draco\", \"house\": \"Sytherin\", \"patronus\": \"None\"},\n",
    "]\n",
    "\n",
    "for student in students:\n",
    "    print(student[\"name\"], student[\"house\"], student[\"patronus\"], sep=\",\")"
   ]
  }
 ],
 "metadata": {
  "kernelspec": {
   "display_name": "Python [conda env:base] *",
   "language": "python",
   "name": "conda-base-py"
  },
  "language_info": {
   "codemirror_mode": {
    "name": "ipython",
    "version": 3
   },
   "file_extension": ".py",
   "mimetype": "text/x-python",
   "name": "python",
   "nbconvert_exporter": "python",
   "pygments_lexer": "ipython3",
   "version": "3.12.7"
  }
 },
 "nbformat": 4,
 "nbformat_minor": 5
}
