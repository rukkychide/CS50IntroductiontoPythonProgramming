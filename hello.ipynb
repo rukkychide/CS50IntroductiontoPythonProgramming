{
 "cells": [
  {
   "cell_type": "code",
   "execution_count": 5,
   "id": "a8b93345-edc9-4a9e-a7c2-42b5500d351c",
   "metadata": {},
   "outputs": [
    {
     "name": "stdin",
     "output_type": "stream",
     "text": [
      "what's your name?  Rukayat\n"
     ]
    }
   ],
   "source": [
    "#Ask user for their name\n",
    "name = input(\"what's your name? \")"
   ]
  },
  {
   "cell_type": "code",
   "execution_count": 7,
   "id": "e17c8026-ea1e-4aa1-8e2e-d4d661ada92f",
   "metadata": {},
   "outputs": [
    {
     "name": "stdout",
     "output_type": "stream",
     "text": [
      "hello, Rukayat\n"
     ]
    }
   ],
   "source": [
    "#Say hello to user\n",
    "print (\"hello, \" +name)"
   ]
  },
  {
   "cell_type": "code",
   "execution_count": 9,
   "id": "ff09c3e7-2c3d-434f-a47e-b83495d98aac",
   "metadata": {},
   "outputs": [
    {
     "name": "stdout",
     "output_type": "stream",
     "text": [
      "hello,\n",
      "Rukayat\n"
     ]
    }
   ],
   "source": [
    "#Say hello to user\n",
    "print (\"hello,\")\n",
    "print(name)"
   ]
  },
  {
   "cell_type": "code",
   "execution_count": 13,
   "id": "9076d0ca-f5a1-479f-b895-abbc139d68d5",
   "metadata": {},
   "outputs": [
    {
     "name": "stdout",
     "output_type": "stream",
     "text": [
      "hello, ???Rukayat\n"
     ]
    }
   ],
   "source": [
    "#Say hello to user\n",
    "print (\"hello, \", end=\"???\")\n",
    "print(name)"
   ]
  },
  {
   "cell_type": "code",
   "execution_count": 15,
   "id": "dd3dc0dc-3f30-40d4-ab60-bfcdc80b3046",
   "metadata": {},
   "outputs": [
    {
     "name": "stdout",
     "output_type": "stream",
     "text": [
      "hello, \"friend\"\n"
     ]
    }
   ],
   "source": [
    "#Say hello to user\n",
    "print (\"hello, \\\"friend\\\"\")"
   ]
  },
  {
   "cell_type": "code",
   "execution_count": 27,
   "id": "64182d19-2aea-47bb-9f32-8ed5ab5bc2b6",
   "metadata": {},
   "outputs": [],
   "source": [
    "#Remove whitespace from str\n",
    "name = name.strip()"
   ]
  },
  {
   "cell_type": "code",
   "execution_count": 29,
   "id": "69379254-42dd-45ba-9db0-343d3d08a99d",
   "metadata": {},
   "outputs": [],
   "source": [
    "name = name.capitalize()"
   ]
  },
  {
   "cell_type": "code",
   "execution_count": 35,
   "id": "eb5f82ee-65ab-45c7-a15d-0050a6933f95",
   "metadata": {},
   "outputs": [
    {
     "name": "stdout",
     "output_type": "stream",
     "text": [
      "hello,  Rukayat\n"
     ]
    }
   ],
   "source": [
    "#Say hello to user\n",
    "print (f\"hello,  {name}\")"
   ]
  },
  {
   "cell_type": "code",
   "execution_count": 39,
   "id": "bb212b91-6749-4b42-83e2-a090108c25fa",
   "metadata": {},
   "outputs": [
    {
     "data": {
      "text/plain": [
       "2"
      ]
     },
     "execution_count": 39,
     "metadata": {},
     "output_type": "execute_result"
    }
   ],
   "source": [
    ">>> 1 + 1"
   ]
  },
  {
   "cell_type": "code",
   "execution_count": 1,
   "id": "32df6e8b-3c47-4480-a7fc-9069724a6f84",
   "metadata": {},
   "outputs": [
    {
     "name": "stdout",
     "output_type": "stream",
     "text": [
      "hello, word\n"
     ]
    }
   ],
   "source": [
    ">>> print(\"hello, word\")"
   ]
  },
  {
   "cell_type": "code",
   "execution_count": 13,
   "id": "7e5e7b06-878c-466a-bcec-550567e86e14",
   "metadata": {},
   "outputs": [
    {
     "name": "stdin",
     "output_type": "stream",
     "text": [
      "What's your name? Rukayat\n"
     ]
    },
    {
     "name": "stdout",
     "output_type": "stream",
     "text": [
      "hello\n",
      "Rukayat\n"
     ]
    }
   ],
   "source": [
    "def hello():\n",
    "    print(\"hello\")\n",
    "\n",
    "name = input(\"What's your name?\")\n",
    "hello()\n",
    "print(name)"
   ]
  },
  {
   "cell_type": "code",
   "execution_count": 19,
   "id": "aeb75dca-bdc9-4047-a271-165e2d987b37",
   "metadata": {},
   "outputs": [
    {
     "name": "stdout",
     "output_type": "stream",
     "text": [
      "hello, world\n"
     ]
    },
    {
     "name": "stdin",
     "output_type": "stream",
     "text": [
      "What's your name? Rukayat\n"
     ]
    },
    {
     "name": "stdout",
     "output_type": "stream",
     "text": [
      "hello, Rukayat\n"
     ]
    }
   ],
   "source": [
    "def hello(to=\"world\"):\n",
    "    print(\"hello,\",to)\n",
    "\n",
    "hello()\n",
    "name = input(\"What's your name?\")\n",
    "hello(name)"
   ]
  },
  {
   "cell_type": "code",
   "execution_count": 29,
   "id": "afb7709f-af64-4cd9-924a-0fc0fa68b6b7",
   "metadata": {},
   "outputs": [],
   "source": [
    "def main():\n",
    "    name = input(\"what's your name?\")\n",
    "    hello(name)\n",
    "def hello(to=\"word\"):\n",
    "    print(\"hello,\",to)"
   ]
  },
  {
   "cell_type": "code",
   "execution_count": 13,
   "id": "6d96ea57-621f-4b92-9e4a-89ff1c677d33",
   "metadata": {},
   "outputs": [
    {
     "name": "stdout",
     "output_type": "stream",
     "text": [
      "Writing hello.py\n"
     ]
    }
   ],
   "source": [
    "%%writefile hello.py\n",
    "def main():\n",
    "    name = input(\"what's your name?\")\n",
    "    hello(name)\n",
    "    \n",
    "def hello(to=\"word\"):\n",
    "    print(\"hello,\",to)\n",
    "\n",
    "if __name__ == \"__main__\":\n",
    "    main()"
   ]
  },
  {
   "cell_type": "code",
   "execution_count": 17,
   "id": "546ef8e1-c2f7-48a2-bb93-9c348b15d6d4",
   "metadata": {},
   "outputs": [
    {
     "name": "stdout",
     "output_type": "stream",
     "text": [
      "Overwriting hello.py\n"
     ]
    }
   ],
   "source": [
    "%%writefile hello.py\n",
    "def main():\n",
    "    name = input(\"what's your name?\")\n",
    "    print(hello(name))\n",
    "    \n",
    "def hello(to=\"word\"):\n",
    "    return f\"hello, {to}\"\n",
    "\n",
    "if __name__ == \"__main__\":\n",
    "    main()"
   ]
  }
 ],
 "metadata": {
  "kernelspec": {
   "display_name": "Python [conda env:base] *",
   "language": "python",
   "name": "conda-base-py"
  },
  "language_info": {
   "codemirror_mode": {
    "name": "ipython",
    "version": 3
   },
   "file_extension": ".py",
   "mimetype": "text/x-python",
   "name": "python",
   "nbconvert_exporter": "python",
   "pygments_lexer": "ipython3",
   "version": "3.12.7"
  }
 },
 "nbformat": 4,
 "nbformat_minor": 5
}
