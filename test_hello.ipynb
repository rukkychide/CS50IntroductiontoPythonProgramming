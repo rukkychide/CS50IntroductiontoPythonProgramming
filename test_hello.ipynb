{
 "cells": [
  {
   "cell_type": "code",
   "execution_count": 5,
   "id": "64c6243e-5dae-4691-9492-7e919e5ec560",
   "metadata": {},
   "outputs": [],
   "source": [
    "from hello import hello\n",
    "\n",
    "def test_hello():\n",
    "    assert hello(\"David\") == \"hello, David\"\n",
    "    assert hello(\"David\") == \"hello, World\""
   ]
  },
  {
   "cell_type": "code",
   "execution_count": 7,
   "id": "a6099c74-642d-40ce-8dff-772e0fa49db4",
   "metadata": {},
   "outputs": [],
   "source": [
    "from hello import hello\n",
    "\n",
    "def test_default():\n",
    "    assert hello(\"David\") == \"hello, David\"\n",
    "\n",
    "def test_argument():\n",
    "    assert hello(\"David\") == \"hello, World\""
   ]
  },
  {
   "cell_type": "code",
   "execution_count": 13,
   "id": "c63c06ea-cf52-4a47-bba9-46da240ff307",
   "metadata": {},
   "outputs": [],
   "source": [
    "from hello import hello\n",
    "\n",
    "def test_default():\n",
    "    assert hello(\"David\") == \"hello, David\"\n",
    "\n",
    "def test_argument():\n",
    "    for name in [\"Hermione\", \"Harry\", \"Ron\"]:\n",
    "        assert hello(\"name\") == f\"hello, {name}\""
   ]
  },
  {
   "cell_type": "code",
   "execution_count": 17,
   "id": "01bdf132-264e-461b-b5c0-82b1a645895f",
   "metadata": {},
   "outputs": [],
   "source": [
    "from hello import hello\n",
    "\n",
    "def test_default():\n",
    "    assert hello() == \"hello, World\"\n",
    "\n",
    "def test_argument():\n",
    "    assert hello(\"David\") == \"hello, World\""
   ]
  }
 ],
 "metadata": {
  "kernelspec": {
   "display_name": "Python [conda env:base] *",
   "language": "python",
   "name": "conda-base-py"
  },
  "language_info": {
   "codemirror_mode": {
    "name": "ipython",
    "version": 3
   },
   "file_extension": ".py",
   "mimetype": "text/x-python",
   "name": "python",
   "nbconvert_exporter": "python",
   "pygments_lexer": "ipython3",
   "version": "3.12.7"
  }
 },
 "nbformat": 4,
 "nbformat_minor": 5
}
