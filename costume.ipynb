{
 "cells": [
  {
   "cell_type": "code",
   "execution_count": 15,
   "id": "5a7c07f1-b615-4240-af13-bd67f6bdaaee",
   "metadata": {},
   "outputs": [],
   "source": [
    "import sys\n",
    "\n",
    "from PIL import Image\n",
    "\n",
    "# Replace with actual file paths if running in a notebook\n",
    "file_paths = [\"costume1.png\", \"costume2.png\"]  # Add your actual file paths here\n",
    "\n",
    "images = []\n",
    "for file_path in file_paths:\n",
    "    image = Image.open(file_path)\n",
    "    images.append(image)\n",
    "\n",
    "# Save all images to animated GIF\n",
    "images[0].save(\n",
    "    \"costumes.gif\", \n",
    "    save_all=True, \n",
    "    append_images=images[1:], \n",
    "    duration=200, \n",
    "    loop=0\n",
    ")"
   ]
  }
 ],
 "metadata": {
  "kernelspec": {
   "display_name": "Python [conda env:base] *",
   "language": "python",
   "name": "conda-base-py"
  },
  "language_info": {
   "codemirror_mode": {
    "name": "ipython",
    "version": 3
   },
   "file_extension": ".py",
   "mimetype": "text/x-python",
   "name": "python",
   "nbconvert_exporter": "python",
   "pygments_lexer": "ipython3",
   "version": "3.12.7"
  }
 },
 "nbformat": 4,
 "nbformat_minor": 5
}
